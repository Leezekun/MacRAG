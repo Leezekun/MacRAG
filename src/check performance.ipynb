{
  "cells": [
    {
      "cell_type": "code",
      "execution_count": 1,
      "id": "7397d8af-f81d-4306-bcea-9f26270da388",
      "metadata": {},
      "outputs": [],
      "source": [
        "from metric import F1_scorer\n",
        "import json\n",
        "import numpy as np"
      ]
    },
    {
      "cell_type": "code",
      "execution_count": 2,
      "id": "82c683db-bc44-4c35-b8f7-11afa476b65c",
      "metadata": {},
      "outputs": [],
      "source": [
        "def replace_and_calculate_average(lst):\n",
        "    # -1을 제외한 나머지 값들의 평균을 구합니다.\n",
        "    valid_values = [x for x in lst if x != -1]\n",
        "    if not valid_values:\n",
        "        raise ValueError(\"리스트에 유효한 값이 없습니다.\")\n",
        "    \n",
        "    average_of_valid_values = sum(valid_values) / len(valid_values)\n",
        "    \n",
        "    # -1을 나머지 값들의 평균으로 대체합니다.\n",
        "    replaced_list = [average_of_valid_values if x == -1 else x for x in lst]\n",
        "    \n",
        "    # 최종 리스트의 평균을 구합니다.\n",
        "    final_average = sum(replaced_list) / len(replaced_list)\n",
        "    \n",
        "    return final_average"
      ]
    },
    {
      "cell_type": "code",
      "execution_count": 3,
      "id": "8b658fb8-f97d-46e4-9713-86fd3007256c",
      "metadata": {},
      "outputs": [],
      "source": [
        "def eval_function(data, pred_dir):\n",
        "    answer_path = \"../data/eval/{}.json\".format(data)\n",
        "    with open(answer_path, encoding='utf-8') as f:\n",
        "            qs_data = json.load(f)\n",
        "    answer = []\n",
        "    for d in qs_data:\n",
        "        answer.append(d[\"answers\"])\n",
        "    F1 = {'F1':{}}\n",
        "    doc_len = {'doc_len':{}}\n",
        "    None_count = {'none_count':{}}\n",
        "    \n",
        "    answer_types = [\"rb_pred\", \"rl_pred\", \"ext_pred\", \"fil_pred\", \"ext_fil_pred\"]\n",
        "    dict_ = {\"rb_pred\":\"R&B\", \"rl_pred\":\"R&L\", \"ext_pred\":\"Ext\", \"fil_pred\":\"Fil\", \"ext_fil_pred\":\"E&F\"}\n",
        "        \n",
        "    for answer_type in answer_types:\n",
        "        try:\n",
        "            with open(pred_dir + answer_type + \".json\", \"r\", encoding = \"utf-8\") as f:\n",
        "                df = f.read()\n",
        "            preds = []\n",
        "            lens = []\n",
        "            none_count = 0\n",
        "            for idx in range(200):\n",
        "                 \n",
        "                try:\n",
        "                    pred = eval(df.split(\"\\n\")[idx])[answer_type]\n",
        "                    preds += [pred]\n",
        "                    lens += [eval(df.split(\"\\n\")[idx])['input_len']]\n",
        "                except:\n",
        "                    pred = eval(df.split(\"\\n\")[idx].replace(\"null\", \"'None'\"))[answer_type]\n",
        "                    preds += [pred]\n",
        "                    lens += [-1]\n",
        "                    \n",
        "                if pred == \"None\":                    \n",
        "                    none_count += 1\n",
        "            \n",
        "            F1['F1'][dict_[answer_type]] = F1_scorer(preds, answer)\n",
        "            doc_len['doc_len'][dict_[answer_type]] = replace_and_calculate_average(lens)\n",
        "            None_count['none_count'][dict_[answer_type]] = none_count\n",
        "        except:\n",
        "            # import pdb;pdb.set_trace()\n",
        "            pass\n",
        "    print(\"F1 성능:\")\n",
        "    print(F1['F1'])\n",
        "    print(\"none 개수:\")\n",
        "    print(None_count['none_count'])\n",
        "    print(\"doc_len:\")\n",
        "    print(doc_len['doc_len'])\n",
        "    print(\"\\n\\n\")\n",
        "    print(\"===============================================\")\n",
        "    # return F1, doc_len"
      ]
    },
    {
      "cell_type": "markdown",
      "id": "423e8a67-0d53-4d06-9c91-d82cad668a2f",
      "metadata": {},
      "source": [
        "### 200_2_2 성능"
      ]
    },
    {
      "cell_type": "code",
      "execution_count": 13,
      "id": "ebe63ff6-5c9d-47cd-9622-fe6bb23d3afb",
      "metadata": {},
      "outputs": [],
      "source": [
        "# model = \"gpt-4o\"\n",
        "model = \"gemini-1.5-flash\""
      ]
    },
    {
      "cell_type": "code",
      "execution_count": 18,
      "id": "fdfbf769-800a-464b-92fa-5fdfc0cb46b5",
      "metadata": {},
      "outputs": [
        {
          "name": "stdout",
          "output_type": "stream",
          "text": [
            "model: gemini-1.5-flash\n",
            "version: base_0_5\n",
            "\n",
            "\n",
            "data: hotpotqa\n",
            "F1 성능:\n",
            "{'R&B': 59.93, 'R&L': 60.58, 'Ext': 62.07, 'Fil': 58.64, 'E&F': 61.82}\n",
            "none 개수:\n",
            "{'R&B': 1, 'R&L': 4, 'Ext': 2, 'Fil': 1, 'E&F': 3}\n",
            "doc_len:\n",
            "{'R&B': 2161.67, 'R&L': 9628.07, 'Ext': 2275.21, 'Fil': 1823.625, 'E&F': 1937.165}\n",
            "\n",
            "\n",
            "\n",
            "===============================================\n",
            "data: 2wikimultihopqa\n",
            "F1 성능:\n",
            "{'R&B': 53.83, 'R&L': 57.24, 'Ext': 53.02, 'Fil': 52.09, 'E&F': 56.03}\n",
            "none 개수:\n",
            "{'R&B': 1, 'R&L': 1, 'Ext': 2, 'Fil': 2, 'E&F': 1}\n",
            "doc_len:\n",
            "{'R&B': 2090.33, 'R&L': 6948.26, 'Ext': 2204.265, 'Fil': 1722.97, 'E&F': 1836.9}\n",
            "\n",
            "\n",
            "\n",
            "===============================================\n",
            "data: musique\n",
            "F1 성능:\n",
            "{}\n",
            "none 개수:\n",
            "{}\n",
            "doc_len:\n",
            "{}\n",
            "\n",
            "\n",
            "\n",
            "===============================================\n"
          ]
        }
      ],
      "source": [
        "version = \"base_0_5\"\n",
        "print(\"model: {}\".format(model))\n",
        "print(\"version: {}\\n\\n\".format(version))\n",
        "data_list = [\"hotpotqa\", \"2wikimultihopqa\", \"musique\"]\n",
        "for data in data_list:\n",
        "    print(\"data: {}\".format(data))\n",
        "    eval_function(data, f\"./log/200_2_2/{data}/{model}/{version}/\")"
      ]
    },
    {
      "cell_type": "code",
      "execution_count": null,
      "id": "9a62c825-b462-457c-992a-a7c3bd0ee1cf",
      "metadata": {},
      "outputs": [],
      "source": []
    },
    {
      "cell_type": "code",
      "execution_count": null,
      "id": "34d43ac4-eba2-4a93-8925-b16870b4ab2f",
      "metadata": {},
      "outputs": [],
      "source": []
    },
    {
      "cell_type": "code",
      "execution_count": null,
      "id": "91b3e2c6-6dc0-4e3f-bbeb-dcbb1cca1a58",
      "metadata": {},
      "outputs": [],
      "source": []
    },
    {
      "cell_type": "markdown",
      "id": "888b03b5-93b1-4a59-abeb-44320585ce40",
      "metadata": {},
      "source": [
        "#### 1500_600_400 성능"
      ]
    },
    {
      "cell_type": "code",
      "execution_count": 30,
      "id": "9b309e50-ba06-4229-9047-a166a42f9ee3",
      "metadata": {},
      "outputs": [],
      "source": [
        "# model = \"gpt-4o\"\n",
        "model = \"gemini-1.5-flash\""
      ]
    },
    {
      "cell_type": "code",
      "execution_count": 36,
      "id": "3974d4ea-1e1f-456d-b58e-633b27cd2476",
      "metadata": {},
      "outputs": [
        {
          "name": "stdout",
          "output_type": "stream",
          "text": [
            "model: gemini-1.5-flash\n",
            "version: aair_0_2\n",
            "\n",
            "\n",
            "data: hotpotqa\n",
            "F1 성능:\n",
            "{'R&B': 62.06, 'R&L': 62.39, 'Ext': 63.04, 'Fil': 59.59, 'E&F': 61.39}\n",
            "none 개수:\n",
            "{'R&B': 0, 'R&L': 2, 'Ext': 0, 'Fil': 0, 'E&F': 0}\n",
            "doc_len:\n",
            "{'R&B': 2745.51, 'R&L': 8984.535, 'Ext': 2862.14, 'Fil': 2308.52, 'E&F': 2425.15}\n",
            "\n",
            "\n",
            "\n",
            "===============================================\n",
            "data: 2wikimultihopqa\n",
            "F1 성능:\n",
            "{'R&B': 56.01, 'R&L': 58.12, 'Ext': 56.81, 'Fil': 54.52, 'E&F': 56.15}\n",
            "none 개수:\n",
            "{'R&B': 0, 'R&L': 0, 'Ext': 0, 'Fil': 0, 'E&F': 0}\n",
            "doc_len:\n",
            "{'R&B': 2723.12, 'R&L': 6543.275, 'Ext': 2836.99, 'Fil': 2165.555, 'E&F': 2279.425}\n",
            "\n",
            "\n",
            "\n",
            "===============================================\n",
            "data: musique\n",
            "F1 성능:\n",
            "{'R&B': 33.89, 'R&L': 39.0, 'Ext': 34.38, 'Fil': 35.01, 'E&F': 32.98}\n",
            "none 개수:\n",
            "{'R&B': 0, 'R&L': 0, 'Ext': 0, 'Fil': 0, 'E&F': 0}\n",
            "doc_len:\n",
            "{'R&B': 2737.305, 'R&L': 12038.98, 'Ext': 2866.945, 'Fil': 2199.265, 'E&F': 2328.905}\n",
            "\n",
            "\n",
            "\n",
            "===============================================\n"
          ]
        }
      ],
      "source": [
        "version = \"aair_0_2\"\n",
        "print(\"model: {}\".format(model))\n",
        "print(\"version: {}\\n\\n\".format(version))\n",
        "data_list = [\"hotpotqa\", \"2wikimultihopqa\", \"musique\"]\n",
        "for data in data_list:\n",
        "    print(\"data: {}\".format(data))\n",
        "    eval_function(data, f\"./log/sum_600_400_raw_1500_500_e5/{data}/{model}/{version}/\")"
      ]
    },
    {
      "cell_type": "code",
      "execution_count": null,
      "id": "bb6aa4fe-d94a-4560-b380-79ff84d8f292",
      "metadata": {},
      "outputs": [],
      "source": []
    },
    {
      "cell_type": "code",
      "execution_count": null,
      "id": "73e67757-c88a-4e2c-8ec7-8c36c9847d84",
      "metadata": {},
      "outputs": [],
      "source": []
    }
  ],
  "metadata": {
    "kernelspec": {
      "display_name": "migration",
      "language": "python",
      "name": "migration"
    },
    "language_info": {
      "codemirror_mode": {
        "name": "ipython",
        "version": 3
      },
      "file_extension": ".py",
      "mimetype": "text/x-python",
      "name": "python",
      "nbconvert_exporter": "python",
      "pygments_lexer": "ipython3",
      "version": "3.10.11"
    }
  },
  "nbformat": 4,
  "nbformat_minor": 5
}
